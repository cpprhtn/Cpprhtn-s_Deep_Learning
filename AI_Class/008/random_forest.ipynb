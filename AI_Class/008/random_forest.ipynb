{
 "cells": [
  {
   "cell_type": "markdown",
   "metadata": {},
   "source": [
    "# Random Forest"
   ]
  },
  {
   "cell_type": "markdown",
   "metadata": {},
   "source": [
    "#### 배깅(Bagging)이란?\n",
    "배깅(Bagging)은 Bootstrap Aggregating의 약자로, 보팅(Voting)과는 달리 동일한 알고리즘으로 여러 분류기를 만들어 보팅으로 최종 결정하는 알고리즘\n",
    "\n",
    "- 배깅은 다음과 같은 방식으로 진행\n",
    "\n",
    "(1) 동일한 알고리즘을 사용하는 일정 수의 분류기 생성\n",
    "(2) 각각의 분류기는 부트스트래핑(Bootstrapping)방식으로 생성된 샘플데이터를 학습\n",
    "(3) 최종적으로 모든 분류기가 보팅을 통헤 예측 결정\n",
    "\n",
    "※ 부트스트래핑 샘플링은 전체 데이터에서 일부 데이터의 중첩을 허용하는 방식"
   ]
  },
  {
   "cell_type": "markdown",
   "metadata": {},
   "source": [
    "#### 랜덤 포레스트는 여러 개의 결정트리(Decision Tree)를 활용한 배깅 방식의 대표적인 알고리즘\n",
    "\n",
    "+ 장점\n",
    "    - 결정 트리의 쉽고 직관적인 장점을 그대로 가지고 있음\n",
    "    - 앙상블 알고리즘 중 비교적 빠른 수행 속도를 가지고 있음\n",
    "    - 다양한 분야에서 좋은 성능을 나타냄\n",
    "    \n",
    "+ 단점\n",
    "    - 하이퍼 파라미터가 많아 튜닝을 위힌 시간이 많이 소요됨"
   ]
  },
  {
   "cell_type": "markdown",
   "metadata": {},
   "source": [
    "## 오늘 해결할 문제\n",
    "\n",
    "- 와인 품질 예측\n",
    "\n",
    "와인 품질 예측을 random forest 모델을 이용하여 해결해봅시다 :)"
   ]
  },
  {
   "cell_type": "markdown",
   "metadata": {},
   "source": [
    "## Import library & data"
   ]
  },
  {
   "cell_type": "code",
   "execution_count": 13,
   "metadata": {},
   "outputs": [],
   "source": [
    "from sklearn.ensemble import RandomForestClassifier\n",
    "import numpy as np\n",
    "import pandas as pd"
   ]
  },
  {
   "cell_type": "code",
   "execution_count": 18,
   "metadata": {},
   "outputs": [],
   "source": [
    "df = pd.read_csv('https://archive.ics.uci.edu/ml/machine-learning-databases/wine-quality/winequality-red.csv', sep=';')"
   ]
  },
  {
   "cell_type": "markdown",
   "metadata": {},
   "source": [
    "## EDA\n",
    "\n",
    "이번 전처리는 자유입니다.\n",
    "\n",
    "상관관계 분석도 해보고\n",
    "\n",
    "이제껏 배운것 활용해보시길~!"
   ]
  },
  {
   "cell_type": "markdown",
   "metadata": {},
   "source": [
    "## Modeling\n",
    "\n",
    "Random Forest 모델의 파라미터\n",
    "    - random_state = 1\n",
    "    - max_depth = 1\n",
    "\n",
    "사용예시\n",
    "\n",
    "RandomForestClassifier(random_state=1, max_depth = 1)"
   ]
  },
  {
   "cell_type": "code",
   "execution_count": null,
   "metadata": {},
   "outputs": [],
   "source": []
  }
 ],
 "metadata": {
  "kernelspec": {
   "display_name": "Python 3",
   "language": "python",
   "name": "python3"
  },
  "language_info": {
   "codemirror_mode": {
    "name": "ipython",
    "version": 3
   },
   "file_extension": ".py",
   "mimetype": "text/x-python",
   "name": "python",
   "nbconvert_exporter": "python",
   "pygments_lexer": "ipython3",
   "version": "3.7.6"
  }
 },
 "nbformat": 4,
 "nbformat_minor": 4
}
