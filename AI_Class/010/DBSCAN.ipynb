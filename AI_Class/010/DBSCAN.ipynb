{
 "cells": [
  {
   "cell_type": "markdown",
   "metadata": {},
   "source": [
    "# DBSCAN clustering\n",
    "\n",
    "K-means clustering은 초기 중심으로 설정한 값에 크게 영향을 받고 \n",
    "노이즈와 이상치에 민감하다는 단점을 가짐 \n",
    "그리고 군집의 개수 K를 설정하는 것도 쉽지 않다는 단점이 있음\n",
    "이러한 단점을 상대적으로 극복한 것이 DBSCAN clustering\n",
    "\n",
    "\n",
    "DBSCAN은 Density-based Spatial Clustering of Applications with Noise의 줄임말로 \n",
    "2014년 KDD 학회에서 상을 받은 군집분석 알고리즘\n",
    "그리고 Density-based clustering 중에서 가장 유명하고 성능이 우수함\n",
    "\n",
    "DBSCAN의 가장 대표적인 특징은 eps-neighbors와 MinPts를 사용하여 군집을 구성한다는 것\n",
    "- Eps-neighbors는 한 데이터를 중심으로 epsilon 거리 이내에 데이터를 한 군집으로 구성한다고 명시하는 parameter\n",
    "- MinPts는 한 군집은 MinPts보다 많거나 같은 수의 데이터로 구성된다는 것\n",
    "\n",
    "만약 MinPts보다 적은 수의 데이터가 eps-neighbors를 형성하면 noise로 취급을 한다. \n",
    "즉, 군집은 최소한의 일정 데이터수를 유지해야한다는 것이다. \n",
    "\n",
    "1. 사용자는 eps와 minPoints를 parameter로 지정  \n",
    "    - 군집이 형성될 개수K를 parameter로 설정하지 않는 것  \n",
    "2. 그리고 eps를 반지름하는 원 안에 있는 관측치를 찾음   \n",
    "3. 찾으면 그 관측치를 군집내 포함시키고, 해당 관측치를 기준으로 다시 관측치를 찾아나감  \n",
    "    - 이 군집이 최소한의 관측치 개수 minPoints를 넘기면 군집으로 인정되는 것  \n",
    "    - 그리고 연결되지 않은 관측치들은 이상치로 분류"
   ]
  },
  {
   "cell_type": "markdown",
   "metadata": {},
   "source": [
    "#### 장점\n",
    "- 원형이 아닌 데이터들의 군집을 잘 분류해내고, 이상치에 반응을 하지 않는다는 것\n",
    "- K-means/medoids처럼 군집의 수를 설정할 필요가 없음\n",
    "\n",
    "#### 단점\n",
    "- 하나의 데이터는 한 군집에 속해야 하는데, 이는 시작점에 따라 다른 군집으로 형성될 가능성이 존재\n",
    "- Eps의 크기에 의해 DBSCAN의 성능이 크게 좌우됨\n",
    "- eps를 기준으로 하기에 군집별로 밀도가 다를 경우 DBSCAN은 군집화를 제대로 수행하지 못할 가능성이 큼"
   ]
  },
  {
   "cell_type": "markdown",
   "metadata": {},
   "source": [
    "## Import lib & data"
   ]
  },
  {
   "cell_type": "code",
   "execution_count": 1,
   "metadata": {},
   "outputs": [],
   "source": [
    "from sklearn import datasets\n",
    "import pandas as pd\n",
    "import matplotlib.pyplot as plt\n",
    "from sklearn import preprocessing\n",
    "from sklearn.cluster import DBSCAN\n",
    "import matplotlib.pyplot  as plt\n",
    "import seaborn as sns"
   ]
  },
  {
   "cell_type": "code",
   "execution_count": 2,
   "metadata": {},
   "outputs": [],
   "source": [
    "iris = datasets.load_iris()\n",
    "df = pd.DataFrame(iris.data)\n",
    "df.columns=['Sepal length','Sepal width','Petal length','Petal width']"
   ]
  },
  {
   "cell_type": "markdown",
   "metadata": {},
   "source": [
    "## EDA\n",
    "\n",
    "데이터 형태, 결측치 등을 확인"
   ]
  },
  {
   "cell_type": "code",
   "execution_count": null,
   "metadata": {},
   "outputs": [],
   "source": []
  },
  {
   "cell_type": "markdown",
   "metadata": {},
   "source": [
    "## Modeling\n",
    "\n",
    "#### 정규화 필요\n",
    "\n",
    "#### DBSCAN 예시\n",
    "DBSCAN(eps=0.5,min_samples=5)\n",
    "\n",
    "#### 파라미터 설명\n",
    "\n",
    "1. Minpoints\n",
    "    - Minpoints는 가장 기본적으로는 변수의 수 + 1로 이루어짐\n",
    "    - 그리고 최소한 3이상으로 설정할 필요가 있음\n",
    "2. Eps\n",
    "    - Eps설정의 경우에는 eps가 너무 작을경우 상당 수의 데이터가 노이즈로 구분되어 무시될 수 있음\n",
    "    - 반면, 너무 클 경우는 모든 데이터가 하나의 군집으로 될 수도 있음"
   ]
  },
  {
   "cell_type": "code",
   "execution_count": null,
   "metadata": {},
   "outputs": [],
   "source": []
  },
  {
   "cell_type": "markdown",
   "metadata": {},
   "source": [
    "## 시각화\n",
    "\n",
    "능력껏 해보시죠!!!  \n",
    "\n",
    "sns.pairplot 이라는것을 이용해봐도 됩니다 (예-전에 배웠습니다 :)"
   ]
  },
  {
   "cell_type": "code",
   "execution_count": null,
   "metadata": {},
   "outputs": [],
   "source": []
  }
 ],
 "metadata": {
  "kernelspec": {
   "display_name": "Python 3",
   "language": "python",
   "name": "python3"
  },
  "language_info": {
   "codemirror_mode": {
    "name": "ipython",
    "version": 3
   },
   "file_extension": ".py",
   "mimetype": "text/x-python",
   "name": "python",
   "nbconvert_exporter": "python",
   "pygments_lexer": "ipython3",
   "version": "3.7.6"
  }
 },
 "nbformat": 4,
 "nbformat_minor": 4
}
