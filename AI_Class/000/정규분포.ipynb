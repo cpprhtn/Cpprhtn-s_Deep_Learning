{
 "cells": [
  {
   "cell_type": "code",
   "execution_count": 1,
   "metadata": {},
   "outputs": [],
   "source": [
    "import numpy as np\n",
    "# numpy float 출력옵션 변경\n",
    "np.set_printoptions(formatter={'float_kind': lambda x: \"{0:0.3f}\".format(x)})\n",
    "\n",
    "import matplotlib.pyplot as plt\n",
    "%matplotlib inline"
   ]
  },
  {
   "cell_type": "code",
   "execution_count": 2,
   "metadata": {},
   "outputs": [],
   "source": [
    "# 랜덤에 의해 똑같은 결과를 재현하도록 seed값 고정\n",
    "seed = 777\n",
    "np.random.seed(seed)"
   ]
  },
  {
   "cell_type": "code",
   "execution_count": 3,
   "metadata": {},
   "outputs": [],
   "source": [
    "mu, sigma = 10, 1 # mean and standard deviation\n",
    "train_data = np.random.normal(mu, sigma, (100, 2))"
   ]
  },
  {
   "cell_type": "code",
   "execution_count": 4,
   "metadata": {},
   "outputs": [
    {
     "name": "stdout",
     "output_type": "stream",
     "text": [
      "MinMaxScaler(copy=True, feature_range=(0, 1))\n"
     ]
    }
   ],
   "source": [
    "from sklearn.preprocessing import MinMaxScaler\n",
    "minMaxScaler = MinMaxScaler()\n",
    "print(minMaxScaler.fit(train_data))\n",
    "train_data_minMaxScaled = minMaxScaler.transform(train_data)"
   ]
  },
  {
   "cell_type": "code",
   "execution_count": 5,
   "metadata": {},
   "outputs": [
    {
     "name": "stdout",
     "output_type": "stream",
     "text": [
      "MaxAbsScaler(copy=True)\n"
     ]
    }
   ],
   "source": [
    "from sklearn.preprocessing import MaxAbsScaler\n",
    "maxAbsScaler = MaxAbsScaler()\n",
    "print(maxAbsScaler.fit(train_data))\n",
    "train_data_maxAbsScaled = maxAbsScaler.transform(train_data)"
   ]
  },
  {
   "cell_type": "code",
   "execution_count": 6,
   "metadata": {},
   "outputs": [
    {
     "name": "stdout",
     "output_type": "stream",
     "text": [
      "StandardScaler(copy=True, with_mean=True, with_std=True)\n"
     ]
    }
   ],
   "source": [
    "from sklearn.preprocessing import StandardScaler\n",
    "standardScaler = StandardScaler()\n",
    "print(standardScaler.fit(train_data))\n",
    "train_data_standardScaled = standardScaler.transform(train_data)"
   ]
  },
  {
   "cell_type": "code",
   "execution_count": 7,
   "metadata": {},
   "outputs": [
    {
     "name": "stdout",
     "output_type": "stream",
     "text": [
      "RobustScaler(copy=True, quantile_range=(25.0, 75.0), with_centering=True,\n",
      "       with_scaling=True)\n"
     ]
    }
   ],
   "source": [
    "from sklearn.preprocessing import RobustScaler\n",
    "robustScaler = RobustScaler()\n",
    "print(robustScaler.fit(train_data))\n",
    "train_data_robustScaled = robustScaler.transform(train_data)"
   ]
  },
  {
   "cell_type": "code",
   "execution_count": 8,
   "metadata": {},
   "outputs": [
    {
     "data": {
      "text/plain": [
       "Text(0.5,1,'train_data_robustScaled')"
      ]
     },
     "execution_count": 8,
     "metadata": {},
     "output_type": "execute_result"
    },
    {
     "data": {
      "image/png": "[encoded data removed]",
      "text/plain": [
       "<matplotlib.figure.Figure at 0x210f027c860>"
      ]
     },
     "metadata": {},
     "output_type": "display_data"
    }
   ],
   "source": [
    "fig, ax = plt.subplots(nrows=1, ncols=5, figsize=(19,4))\n",
    "\n",
    "ax[0].scatter(train_data[:, 0], train_data[:, 1], s=2, color='r')\n",
    "ax[0].grid(True)\n",
    "ax[0].set_title('train_data')\n",
    "\n",
    "\n",
    "ax[1].scatter(train_data_minMaxScaled[:, 0], train_data_minMaxScaled[:, 1], s=2, color='b')\n",
    "ax[1].grid(True)\n",
    "ax[1].set_title('train_data_minMaxScaled')\n",
    "\n",
    "\n",
    "ax[2].scatter(train_data_maxAbsScaled[:, 0], train_data_maxAbsScaled[:, 1], s=2, color='b')\n",
    "ax[2].grid(True)\n",
    "ax[2].set_title('train_data_maxAbsScaled')\n",
    "\n",
    "\n",
    "ax[3].scatter(train_data_standardScaled[:, 0], train_data_standardScaled[:, 1], s=2, color='b')\n",
    "ax[3].grid(True)\n",
    "ax[3].set_title('train_data_standardScaled')\n",
    "\n",
    "\n",
    "ax[4].scatter(train_data_robustScaled[:, 0], train_data_robustScaled[:, 1], s=2, color='b')\n",
    "ax[4].grid(True)\n",
    "ax[4].set_title('train_data_robustScaled')"
   ]
  },
  {
   "cell_type": "code",
   "execution_count": null,
   "metadata": {},
   "outputs": [],
   "source": []
  }
 ],
 "metadata": {
  "kernelspec": {
   "display_name": "Python 3",
   "language": "python",
   "name": "python3"
  },
  "language_info": {
   "codemirror_mode": {
    "name": "ipython",
    "version": 3
   },
   "file_extension": ".py",
   "mimetype": "text/x-python",
   "name": "python",
   "nbconvert_exporter": "python",
   "pygments_lexer": "ipython3",
   "version": "3.8.5"
  }
 },
 "nbformat": 4,
 "nbformat_minor": 2
}
