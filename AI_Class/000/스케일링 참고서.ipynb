{
 "cells": [
  {
   "cell_type": "markdown",
   "metadata": {},
   "source": [
    "## 스케일링\n",
    "\n",
    "**데이터를 모델링하기 전에는 반드시 스케일링 과정을 거쳐야 한다.**  \n",
    "스케일링을 통해 다차원의 값들을 비교 분석하기 쉽게 만들어주며,  \n",
    "자료의 오버플로우(overflow)나 언더플로우(underflow)를 방지 하고,  \n",
    "독립 변수의 공분산 행렬의 조건수(condition number)를 감소시켜 **최적화 과정에서의 안정성 및 수렴 속도를 향상 시킨다.**\n",
    "\n",
    "\n",
    "### 데이터 분포 형태\n",
    "1) 정규분포 형태\n",
    "\n",
    "2) 중앙에 많이 분포 형태\n",
    "\n",
    "3) 양쪽으로 나눠서 분포 형태\n"
   ]
  },
  {
   "cell_type": "markdown",
   "metadata": {},
   "source": [
    "![000-1](https://user-images.githubusercontent.com/63298243/112088644-8d4e2080-8bd3-11eb-90ca-99c0aad1b1c1.JPG)"
   ]
  },
  {
   "cell_type": "markdown",
   "metadata": {},
   "source": [
    "## 1. StandardScaler\n",
    "평균을 제거하고 데이터를 단위 분산으로 조정한다.  \n",
    "\n",
    "그러나 이상치가 있다면 평균과 표준편차에 영향을 미쳐 변환된 데이터의 확산은 매우 달라지게 된다.\n",
    "\n",
    "따라서 이상치가 있는 경우 균형 잡힌 척도를 보장할 수 없다."
   ]
  },
  {
   "cell_type": "markdown",
   "metadata": {},
   "source": [
    "## 2. MinMaxScaler\n",
    "모든 feature 값이 0~1사이에 있도록 데이터를 재조정한다.\n",
    "\n",
    "다만 이상치가 있는 경우 변환된 값이 매우 좁은 범위로 압축될 수 있다.\n",
    "\n",
    "즉, MinMaxScaler 역시 아웃라이어의 존재에 매우 민감하다."
   ]
  },
  {
   "cell_type": "markdown",
   "metadata": {},
   "source": [
    "## 3. MaxAbsScaler\n",
    "절대값이 0~1사이에 매핑되도록 한다. \n",
    "\n",
    "즉 -1~1 사이로 재조정한다.\n",
    "\n",
    "양수 데이터로만 구성된 특징 데이터셋에서는 MinMaxScaler와 유사하게 동작하며, 큰 이상치에 민감할 수 있다."
   ]
  },
  {
   "cell_type": "markdown",
   "metadata": {},
   "source": [
    "## 4. RobustScaler\n",
    "아웃라이어의 영향을 최소화한 기법이다. \n",
    "\n",
    "중앙값(median)과 IQR(interquartile range)을 사용하기 때문에 \n",
    "\n",
    "StandardScaler와 비교해보면 표준화 후 동일한 값을 더 넓게 분포 시키고 있음을 확인 할 수 있다.\n",
    "\n",
    "IQR = Q3 - Q1 : 즉, 25퍼센타일과 75퍼센타일의 값들을 다룬다."
   ]
  },
  {
   "cell_type": "markdown",
   "metadata": {},
   "source": [
    "## 비교\n",
    "\n"
   ]
  },
  {
   "cell_type": "markdown",
   "metadata": {},
   "source": [
    "### 정리"
   ]
  },
  {
   "cell_type": "markdown",
   "metadata": {},
   "source": [
    "결론적으로 모든 스케일러 처리 전에는 아웃라이어 제거가 선행되어야 한다. \n",
    "\n",
    "또한 데이터의 분포 특징에 따라 적절한 스케일러를 적용해주는 것이 좋다."
   ]
  },
  {
   "cell_type": "markdown",
   "metadata": {},
   "source": [
    "대부분의 스케일링 기법에서 아웃라이어는 변환 효과를 저해하는 요소임이 드러난다.\n",
    "\n",
    "유의해야할 점은, 스케일링시 Feature별로 크기를 유사하게 만드는 것은 중요하지만, \n",
    "\n",
    "그렇다고 모든 Feature의 분포를 동일하게 만들 필요는 없다.\n",
    "\n",
    "특성에 따라 어떤 항목은 원본데이터의 분포를 유지하는 것이 유의할 수 있다. \n",
    "\n",
    "예로 데이터가 거의 한 곳에 집중되어 있는 Feature를 표준화시켜 분포를 같게 만들었을때 \n",
    "\n",
    "작은 단위의 변화가 큰 차이를 나타내는 것으로 반영될 수 있기 때문이다."
   ]
  }
 ],
 "metadata": {
  "kernelspec": {
   "display_name": "Python 3",
   "language": "python",
   "name": "python3"
  },
  "language_info": {
   "codemirror_mode": {
    "name": "ipython",
    "version": 3
   },
   "file_extension": ".py",
   "mimetype": "text/x-python",
   "name": "python",
   "nbconvert_exporter": "python",
   "pygments_lexer": "ipython3",
   "version": "3.8.5"
  }
 },
 "nbformat": 4,
 "nbformat_minor": 4
}
