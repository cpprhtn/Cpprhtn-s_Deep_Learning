{
 "cells": [
  {
   "cell_type": "markdown",
   "metadata": {},
   "source": [
    "## 스케일링\n",
    "\n",
    "**데이터를 모델링하기 전에는 반드시 스케일링 과정을 거쳐야 한다.**  \n",
    "스케일링을 통해 다차원의 값들을 비교 분석하기 쉽게 만들어주며,  \n",
    "자료의 오버플로우(overflow)나 언더플로우(underflow)를 방지 하고,  \n",
    "독립 변수의 공분산 행렬의 조건수(condition number)를 감소시켜 **최적화 과정에서의 안정성 및 수렴 속도를 향상 시킨다.**\n",
    "\n",
    "\n",
    "특히 k-means 등 거리 기반의 모델에서는 스케일링이 매우 중요하다."
   ]
  },
  {
   "cell_type": "code",
   "execution_count": null,
   "metadata": {},
   "outputs": [],
   "source": []
  }
 ],
 "metadata": {
  "kernelspec": {
   "display_name": "Python 3",
   "language": "python",
   "name": "python3"
  },
  "language_info": {
   "codemirror_mode": {
    "name": "ipython",
    "version": 3
   },
   "file_extension": ".py",
   "mimetype": "text/x-python",
   "name": "python",
   "nbconvert_exporter": "python",
   "pygments_lexer": "ipython3",
   "version": "3.8.5"
  }
 },
 "nbformat": 4,
 "nbformat_minor": 4
}
