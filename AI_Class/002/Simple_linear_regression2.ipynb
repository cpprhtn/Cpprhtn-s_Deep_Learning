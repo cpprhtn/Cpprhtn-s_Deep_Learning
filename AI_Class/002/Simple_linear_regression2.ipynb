{
 "cells": [
  {
   "cell_type": "markdown",
   "metadata": {
    "colab_type": "text",
    "id": "T-dtOIu5FUV3",
    "slideshow": {
     "slide_type": "slide"
    }
   },
   "source": [
    "# Simple Liner Regression 직접 구현"
   ]
  },
  {
   "cell_type": "code",
   "execution_count": 2,
   "metadata": {
    "colab": {},
    "colab_type": "code",
    "id": "dk3ggjvmFUV5",
    "slideshow": {
     "slide_type": "slide"
    }
   },
   "outputs": [],
   "source": [
    "import tensorflow as tf\n",
    "import numpy as np"
   ]
  },
  {
   "cell_type": "markdown",
   "metadata": {
    "colab_type": "text",
    "id": "RFeXSskkFUV-",
    "slideshow": {
     "slide_type": "slide"
    }
   },
   "source": [
    "# Hypothesis and Cost\n",
    "### Hypothesis \n",
    "$$ H(x) = Wx + b $$\n",
    "\n",
    "\n",
    "### Cost\n",
    "$$ cost(W)=\\frac { 1 }{ m } \\sum _{i=1}^{m}{ { (W{ x }^{ i }-y^{ i } })^{ 2 } }  $$\n"
   ]
  },
  {
   "cell_type": "code",
   "execution_count": 3,
   "metadata": {
    "colab": {},
    "colab_type": "code",
    "id": "pvennmBIFUV_",
    "slideshow": {
     "slide_type": "slide"
    }
   },
   "outputs": [],
   "source": [
    "X = tf.range(10.0)\n",
    "y = tf.range(10.0)"
   ]
  },
  {
   "cell_type": "code",
   "execution_count": 4,
   "metadata": {
    "colab": {
     "base_uri": "https://localhost:8080/",
     "height": 369
    },
    "colab_type": "code",
    "executionInfo": {
     "elapsed": 2167,
     "status": "ok",
     "timestamp": 1549783673077,
     "user": {
      "displayName": "Sean-June Lee",
      "photoUrl": "https://lh3.googleusercontent.com/-j96Pvw9LbEw/AAAAAAAAAAI/AAAAAAACQxw/aY8i4PoItwc/s64/photo.jpg",
      "userId": "12576390002043678893"
     },
     "user_tz": -540
    },
    "id": "0gJ136qSGiYm",
    "outputId": "5eb3b45f-55df-4d8d-ded7-b3baf3f264b1"
   },
   "outputs": [
    {
     "data": {
      "image/png": "[encoded data removed]",
      "text/plain": [
       "<Figure size 432x288 with 1 Axes>"
      ]
     },
     "metadata": {
      "needs_background": "light"
     },
     "output_type": "display_data"
    }
   ],
   "source": [
    "import matplotlib.pyplot as plt\n",
    "plt.plot(X, y, 'o')\n",
    "plt.ylim(0, 10)\n",
    "plt.show()"
   ]
  },
  {
   "cell_type": "markdown",
   "metadata": {
    "colab_type": "text",
    "id": "kJIo1YInVobJ"
   },
   "source": [
    "## Hypothesis\n",
    "\n",
    "dtype에 유의\n",
    "\n",
    "A. is not A (float / int)"
   ]
  },
  {
   "cell_type": "code",
   "execution_count": 5,
   "metadata": {
    "colab": {
     "base_uri": "https://localhost:8080/",
     "height": 34
    },
    "colab_type": "code",
    "executionInfo": {
     "elapsed": 2160,
     "status": "ok",
     "timestamp": 1549783673078,
     "user": {
      "displayName": "Sean-June Lee",
      "photoUrl": "https://lh3.googleusercontent.com/-j96Pvw9LbEw/AAAAAAAAAAI/AAAAAAACQxw/aY8i4PoItwc/s64/photo.jpg",
      "userId": "12576390002043678893"
     },
     "user_tz": -540
    },
    "id": "4F5aR9EEDaAs",
    "outputId": "8bd52e07-f337-4b3d-c837-1a7bdc1a2760"
   },
   "outputs": [
    {
     "data": {
      "text/plain": [
       "<tf.Tensor: shape=(), dtype=float32, numpy=4.5>"
      ]
     },
     "execution_count": 5,
     "metadata": {},
     "output_type": "execute_result"
    }
   ],
   "source": [
    "vector = tf.range(10.0)\n",
    "tf.reduce_mean(vector)"
   ]
  },
  {
   "cell_type": "code",
   "execution_count": 6,
   "metadata": {
    "colab": {
     "base_uri": "https://localhost:8080/",
     "height": 34
    },
    "colab_type": "code",
    "executionInfo": {
     "elapsed": 2142,
     "status": "ok",
     "timestamp": 1549783673079,
     "user": {
      "displayName": "Sean-June Lee",
      "photoUrl": "https://lh3.googleusercontent.com/-j96Pvw9LbEw/AAAAAAAAAAI/AAAAAAACQxw/aY8i4PoItwc/s64/photo.jpg",
      "userId": "12576390002043678893"
     },
     "user_tz": -540
    },
    "id": "ci7fI9DdFcLh",
    "outputId": "116b747d-9d10-4ae0-f1c3-069f0fd58186"
   },
   "outputs": [
    {
     "data": {
      "text/plain": [
       "<tf.Tensor: shape=(), dtype=int32, numpy=25>"
      ]
     },
     "execution_count": 6,
     "metadata": {},
     "output_type": "execute_result"
    }
   ],
   "source": [
    "tf.square(5)"
   ]
  },
  {
   "cell_type": "markdown",
   "metadata": {},
   "source": [
    "임의로 hypothesis 하나 생성"
   ]
  },
  {
   "cell_type": "code",
   "execution_count": 7,
   "metadata": {
    "colab": {
     "base_uri": "https://localhost:8080/",
     "height": 90
    },
    "colab_type": "code",
    "executionInfo": {
     "elapsed": 2135,
     "status": "ok",
     "timestamp": 1549783673080,
     "user": {
      "displayName": "Sean-June Lee",
      "photoUrl": "https://lh3.googleusercontent.com/-j96Pvw9LbEw/AAAAAAAAAAI/AAAAAAACQxw/aY8i4PoItwc/s64/photo.jpg",
      "userId": "12576390002043678893"
     },
     "user_tz": -540
    },
    "id": "vGg-WsdlAlNr",
    "outputId": "c5eda8e8-9a4f-4713-a5c2-7c73998c6154"
   },
   "outputs": [],
   "source": [
    "W = tf.Variable(1.0)\n",
    "b = tf.Variable(1.0)\n",
    "\n",
    "\n",
    "hypothesis = W * X + b"
   ]
  },
  {
   "cell_type": "markdown",
   "metadata": {},
   "source": [
    "### Hypothesis \n",
    "\n",
    "$$ H(x) = 2.0x + 0.5 $$"
   ]
  },
  {
   "cell_type": "code",
   "execution_count": 8,
   "metadata": {},
   "outputs": [
    {
     "data": {
      "text/plain": [
       "<tf.Tensor: shape=(10,), dtype=float32, numpy=array([ 1.,  2.,  3.,  4.,  5.,  6.,  7.,  8.,  9., 10.], dtype=float32)>"
      ]
     },
     "execution_count": 8,
     "metadata": {},
     "output_type": "execute_result"
    }
   ],
   "source": [
    "hypothesis"
   ]
  },
  {
   "cell_type": "code",
   "execution_count": 9,
   "metadata": {
    "colab": {
     "base_uri": "https://localhost:8080/",
     "height": 34
    },
    "colab_type": "code",
    "executionInfo": {
     "elapsed": 2125,
     "status": "ok",
     "timestamp": 1549783673082,
     "user": {
      "displayName": "Sean-June Lee",
      "photoUrl": "https://lh3.googleusercontent.com/-j96Pvw9LbEw/AAAAAAAAAAI/AAAAAAACQxw/aY8i4PoItwc/s64/photo.jpg",
      "userId": "12576390002043678893"
     },
     "user_tz": -540
    },
    "id": "5-9nQyH5IjJA",
    "outputId": "36d8d098-a333-45c4-8d0a-e2b797837a96"
   },
   "outputs": [
    {
     "data": {
      "text/plain": [
       "array([ 1.,  2.,  3.,  4.,  5.,  6.,  7.,  8.,  9., 10.], dtype=float32)"
      ]
     },
     "execution_count": 9,
     "metadata": {},
     "output_type": "execute_result"
    }
   ],
   "source": [
    "hypothesis.numpy()"
   ]
  },
  {
   "cell_type": "markdown",
   "metadata": {},
   "source": [
    "파란점이 실제 데이터, 빨간선이 H(x)"
   ]
  },
  {
   "cell_type": "code",
   "execution_count": 11,
   "metadata": {
    "colab": {
     "base_uri": "https://localhost:8080/",
     "height": 351
    },
    "colab_type": "code",
    "executionInfo": {
     "elapsed": 2375,
     "status": "ok",
     "timestamp": 1549783673347,
     "user": {
      "displayName": "Sean-June Lee",
      "photoUrl": "https://lh3.googleusercontent.com/-j96Pvw9LbEw/AAAAAAAAAAI/AAAAAAACQxw/aY8i4PoItwc/s64/photo.jpg",
      "userId": "12576390002043678893"
     },
     "user_tz": -540
    },
    "id": "5CK8K2HXXdB7",
    "outputId": "c6ea512e-bbc6-4576-e0c6-af6b047f8a49"
   },
   "outputs": [
    {
     "data": {
      "image/png": "[encoded data removed]",
      "text/plain": [
       "<Figure size 432x288 with 1 Axes>"
      ]
     },
     "metadata": {
      "needs_background": "light"
     },
     "output_type": "display_data"
    }
   ],
   "source": [
    "plt.plot(X, hypothesis.numpy(), 'r-')\n",
    "plt.plot(X, y, 'o')\n",
    "plt.ylim(-1, 20)\n",
    "plt.show()"
   ]
  },
  {
   "cell_type": "markdown",
   "metadata": {
    "colab_type": "text",
    "id": "wa9avNpfVdDD"
   },
   "source": [
    "## Cost\n",
    "$$ cost(W)=\\frac { 1 }{ m } \\sum _{i=1}^{m}{ { (W{ x }^{ i }-y^{ i } })^{ 2 } }  $$\n",
    "\n",
    "Cost는 모델과 데이터가 얼마나 잘 맞지 않는지를 수치화하는 것이라 볼 수 있는데. 이는 loss라고 부른다.\n",
    "\n",
    "자세한 내용은 [여기](https://github.com/cpprhtn/Cpprhtn-s_Deep_Learning/blob/master/AI_Class/018/README.md)를 참고하자.\n",
    "\n",
    "오차제곱평균(MSE)"
   ]
  },
  {
   "cell_type": "code",
   "execution_count": 15,
   "metadata": {
    "colab": {},
    "colab_type": "code",
    "id": "ZkOrmjTjKMJ7"
   },
   "outputs": [
    {
     "data": {
      "text/plain": [
       "(<tf.Tensor: shape=(), dtype=float32, numpy=1.0>,\n",
       " <tf.Tensor: shape=(), dtype=float32, numpy=1.0>)"
      ]
     },
     "execution_count": 15,
     "metadata": {},
     "output_type": "execute_result"
    }
   ],
   "source": [
    "cost = tf.reduce_mean(tf.square(hypothesis - y))\n",
    "\n",
    "#tensorflow에 미리 구현되어있는 MSE\n",
    "cost2 = tf.losses.mean_squared_error(hypothesis, y)\n",
    "\n",
    "cost, cost2"
   ]
  },
  {
   "cell_type": "markdown",
   "metadata": {},
   "source": [
    "## Gradient Descent\n",
    "\n",
    "$$ Minimize cost(W, b) $$\n",
    "\n",
    "파라미터  W ,  b 에 대해 Cost를 미분한다. \n",
    "다시 말해 파라미터를 증가시킬 때 Cost 값이 얼마나 변화하는지 확인한다."
   ]
  },
  {
   "cell_type": "code",
   "execution_count": 16,
   "metadata": {
    "colab": {
     "base_uri": "https://localhost:8080/",
     "height": 34
    },
    "colab_type": "code",
    "executionInfo": {
     "elapsed": 2364,
     "status": "ok",
     "timestamp": 1549783673351,
     "user": {
      "displayName": "Sean-June Lee",
      "photoUrl": "https://lh3.googleusercontent.com/-j96Pvw9LbEw/AAAAAAAAAAI/AAAAAAACQxw/aY8i4PoItwc/s64/photo.jpg",
      "userId": "12576390002043678893"
     },
     "user_tz": -540
    },
    "id": "n00UWqSAKXHU",
    "outputId": "a4191026-70c0-4e79-dff8-57ca14cd98f3"
   },
   "outputs": [
    {
     "data": {
      "text/plain": [
       "(9.0, 2.0)"
      ]
     },
     "execution_count": 16,
     "metadata": {},
     "output_type": "execute_result"
    }
   ],
   "source": [
    "with tf.GradientTape() as tape:\n",
    "    hypothesis = W * X + b\n",
    "    cost = tf.reduce_mean(tf.square(hypothesis - y))\n",
    "\n",
    "dW, db = tape.gradient(cost, [W, b])\n",
    "dW.numpy(), db.numpy()"
   ]
  },
  {
   "cell_type": "markdown",
   "metadata": {
    "colab_type": "text",
    "id": "1JhoCK8yLk_X"
   },
   "source": [
    "## 파라미터 업데이트\n",
    "\n",
    "loss를  W로 미분했을 때 마이너스면  W 를 증가, 플러스면 감소시킨다. \n",
    "\n",
    "즉 미분값에 비례해서 변화시킨다.  \n",
    "하지만 미분값만큼 그대로 변화시키면 파라미터가 한 번에 너무 많이 변하므로 적당한 학습률(보통 0.01~0.001)을 곱해준다."
   ]
  },
  {
   "cell_type": "code",
   "execution_count": 18,
   "metadata": {
    "colab": {
     "base_uri": "https://localhost:8080/",
     "height": 34
    },
    "colab_type": "code",
    "executionInfo": {
     "elapsed": 2355,
     "status": "ok",
     "timestamp": 1549783673352,
     "user": {
      "displayName": "Sean-June Lee",
      "photoUrl": "https://lh3.googleusercontent.com/-j96Pvw9LbEw/AAAAAAAAAAI/AAAAAAACQxw/aY8i4PoItwc/s64/photo.jpg",
      "userId": "12576390002043678893"
     },
     "user_tz": -540
    },
    "id": "bEOlCDAoLkw0",
    "outputId": "3e04ee39-a263-469e-87b9-53f4dd9980a1"
   },
   "outputs": [],
   "source": [
    "learning_rate = 0.01"
   ]
  },
  {
   "cell_type": "markdown",
   "metadata": {},
   "source": [
    "이제  w←w−η∂w 의 식으로 파라미터를 수정해준다.  η 는 학습률을 나타낸다. \n",
    "경사(미분)을 따라 손실을 줄여나가기 때문에 경사하강법이라고 부른다. \n",
    "\n",
    "텐서플로에서 a.assign_sub(b)는 일반적인 파이썬 코드에서 a = a - b와 같다"
   ]
  },
  {
   "cell_type": "code",
   "execution_count": 19,
   "metadata": {},
   "outputs": [
    {
     "data": {
      "text/plain": [
       "(0.91, 0.98)"
      ]
     },
     "execution_count": 19,
     "metadata": {},
     "output_type": "execute_result"
    }
   ],
   "source": [
    "W.assign_sub(learning_rate * dW)\n",
    "b.assign_sub(learning_rate * db)\n",
    "\n",
    "W.numpy(), b.numpy()"
   ]
  },
  {
   "cell_type": "code",
   "execution_count": 20,
   "metadata": {
    "colab": {
     "base_uri": "https://localhost:8080/",
     "height": 369
    },
    "colab_type": "code",
    "executionInfo": {
     "elapsed": 2660,
     "status": "ok",
     "timestamp": 1549783673662,
     "user": {
      "displayName": "Sean-June Lee",
      "photoUrl": "https://lh3.googleusercontent.com/-j96Pvw9LbEw/AAAAAAAAAAI/AAAAAAACQxw/aY8i4PoItwc/s64/photo.jpg",
      "userId": "12576390002043678893"
     },
     "user_tz": -540
    },
    "id": "sYxk3o8VLUmJ",
    "outputId": "c3f06239-6645-4b87-c600-267e89588d0c"
   },
   "outputs": [
    {
     "data": {
      "text/plain": [
       "(-1.0, 20.0)"
      ]
     },
     "execution_count": 20,
     "metadata": {},
     "output_type": "execute_result"
    },
    {
     "data": {
      "image/png": "[encoded data removed]",
      "text/plain": [
       "<Figure size 432x288 with 1 Axes>"
      ]
     },
     "metadata": {
      "needs_background": "light"
     },
     "output_type": "display_data"
    }
   ],
   "source": [
    "plt.plot(X, hypothesis.numpy(), 'r-')\n",
    "plt.plot(X, y, 'o')\n",
    "plt.ylim(-1, 20)"
   ]
  },
  {
   "cell_type": "markdown",
   "metadata": {
    "colab_type": "text",
    "id": "DIwrKgj-P-Id"
   },
   "source": [
    "## 여러 번 반복"
   ]
  },
  {
   "cell_type": "code",
   "execution_count": 23,
   "metadata": {
    "colab": {
     "base_uri": "https://localhost:8080/",
     "height": 545
    },
    "colab_type": "code",
    "executionInfo": {
     "elapsed": 3427,
     "status": "ok",
     "timestamp": 1549783674437,
     "user": {
      "displayName": "Sean-June Lee",
      "photoUrl": "https://lh3.googleusercontent.com/-j96Pvw9LbEw/AAAAAAAAAAI/AAAAAAACQxw/aY8i4PoItwc/s64/photo.jpg",
      "userId": "12576390002043678893"
     },
     "user_tz": -540
    },
    "id": "iMia1ENFLUeJ",
    "outputId": "0aa42d35-0cda-4e40-a40d-85cd6dd2547c"
   },
   "outputs": [
    {
     "name": "stdout",
     "output_type": "stream",
     "text": [
      "    0|    0.9997|    0.0019|  0.000001\n",
      "   10|    0.9997|    0.0018|  0.000001\n",
      "   20|    0.9997|    0.0017|  0.000001\n",
      "   30|    0.9997|    0.0016|  0.000001\n",
      "   40|    0.9998|    0.0015|  0.000001\n",
      "   50|    0.9998|    0.0014|  0.000001\n",
      "   60|    0.9998|    0.0014|  0.000001\n",
      "   70|    0.9998|    0.0013|  0.000000\n",
      "   80|    0.9998|    0.0012|  0.000000\n",
      "   90|    0.9998|    0.0011|  0.000000\n",
      "  100|    0.9998|    0.0011|  0.000000\n",
      "  110|    0.9998|    0.0010|  0.000000\n",
      "  120|    0.9998|    0.0010|  0.000000\n",
      "  130|    0.9999|    0.0009|  0.000000\n",
      "  140|    0.9999|    0.0009|  0.000000\n",
      "  150|    0.9999|    0.0008|  0.000000\n",
      "  160|    0.9999|    0.0008|  0.000000\n",
      "  170|    0.9999|    0.0007|  0.000000\n",
      "  180|    0.9999|    0.0007|  0.000000\n",
      "  190|    0.9999|    0.0006|  0.000000\n",
      "  200|    0.9999|    0.0006|  0.000000\n",
      "  210|    0.9999|    0.0006|  0.000000\n",
      "  220|    0.9999|    0.0005|  0.000000\n",
      "  230|    0.9999|    0.0005|  0.000000\n",
      "  240|    0.9999|    0.0005|  0.000000\n",
      "  250|    0.9999|    0.0005|  0.000000\n",
      "  260|    0.9999|    0.0004|  0.000000\n",
      "  270|    0.9999|    0.0004|  0.000000\n",
      "  280|    0.9999|    0.0004|  0.000000\n",
      "  290|    0.9999|    0.0004|  0.000000\n",
      "  300|    0.9999|    0.0003|  0.000000\n",
      "  310|    0.9999|    0.0003|  0.000000\n",
      "  320|    1.0000|    0.0003|  0.000000\n",
      "  330|    1.0000|    0.0003|  0.000000\n",
      "  340|    1.0000|    0.0003|  0.000000\n",
      "  350|    1.0000|    0.0003|  0.000000\n",
      "  360|    1.0000|    0.0002|  0.000000\n",
      "  370|    1.0000|    0.0002|  0.000000\n",
      "  380|    1.0000|    0.0002|  0.000000\n",
      "  390|    1.0000|    0.0002|  0.000000\n",
      "  400|    1.0000|    0.0002|  0.000000\n",
      "  410|    1.0000|    0.0002|  0.000000\n",
      "  420|    1.0000|    0.0002|  0.000000\n",
      "  430|    1.0000|    0.0002|  0.000000\n",
      "  440|    1.0000|    0.0002|  0.000000\n",
      "  450|    1.0000|    0.0001|  0.000000\n",
      "  460|    1.0000|    0.0001|  0.000000\n",
      "  470|    1.0000|    0.0001|  0.000000\n",
      "  480|    1.0000|    0.0001|  0.000000\n",
      "  490|    1.0000|    0.0001|  0.000000\n",
      "  500|    1.0000|    0.0001|  0.000000\n",
      "  510|    1.0000|    0.0001|  0.000000\n",
      "  520|    1.0000|    0.0001|  0.000000\n",
      "  530|    1.0000|    0.0001|  0.000000\n",
      "  540|    1.0000|    0.0001|  0.000000\n",
      "  550|    1.0000|    0.0001|  0.000000\n",
      "  560|    1.0000|    0.0001|  0.000000\n",
      "  570|    1.0000|    0.0001|  0.000000\n",
      "  580|    1.0000|    0.0001|  0.000000\n",
      "  590|    1.0000|    0.0001|  0.000000\n",
      "  600|    1.0000|    0.0001|  0.000000\n",
      "  610|    1.0000|    0.0001|  0.000000\n",
      "  620|    1.0000|    0.0001|  0.000000\n",
      "  630|    1.0000|    0.0001|  0.000000\n",
      "  640|    1.0000|    0.0001|  0.000000\n",
      "  650|    1.0000|    0.0000|  0.000000\n",
      "  660|    1.0000|    0.0000|  0.000000\n",
      "  670|    1.0000|    0.0000|  0.000000\n",
      "  680|    1.0000|    0.0000|  0.000000\n",
      "  690|    1.0000|    0.0000|  0.000000\n",
      "  700|    1.0000|    0.0000|  0.000000\n",
      "  710|    1.0000|    0.0000|  0.000000\n",
      "  720|    1.0000|    0.0000|  0.000000\n",
      "  730|    1.0000|    0.0000|  0.000000\n",
      "  740|    1.0000|    0.0000|  0.000000\n",
      "  750|    1.0000|    0.0000|  0.000000\n",
      "  760|    1.0000|    0.0000|  0.000000\n",
      "  770|    1.0000|    0.0000|  0.000000\n",
      "  780|    1.0000|    0.0000|  0.000000\n",
      "  790|    1.0000|    0.0000|  0.000000\n",
      "  800|    1.0000|    0.0000|  0.000000\n",
      "  810|    1.0000|    0.0000|  0.000000\n",
      "  820|    1.0000|    0.0000|  0.000000\n",
      "  830|    1.0000|    0.0000|  0.000000\n",
      "  840|    1.0000|    0.0000|  0.000000\n",
      "  850|    1.0000|    0.0000|  0.000000\n",
      "  860|    1.0000|    0.0000|  0.000000\n",
      "  870|    1.0000|    0.0000|  0.000000\n",
      "  880|    1.0000|    0.0000|  0.000000\n",
      "  890|    1.0000|    0.0000|  0.000000\n",
      "  900|    1.0000|    0.0000|  0.000000\n",
      "  910|    1.0000|    0.0000|  0.000000\n",
      "  920|    1.0000|    0.0000|  0.000000\n",
      "  930|    1.0000|    0.0000|  0.000000\n",
      "  940|    1.0000|    0.0000|  0.000000\n",
      "  950|    1.0000|    0.0000|  0.000000\n",
      "  960|    1.0000|    0.0000|  0.000000\n",
      "  970|    1.0000|    0.0000|  0.000000\n",
      "  980|    1.0000|    0.0000|  0.000000\n",
      "  990|    1.0000|    0.0000|  0.000000\n"
     ]
    }
   ],
   "source": [
    "for i in range(1000):\n",
    "    with tf.GradientTape() as tape:\n",
    "        hypothesis = W * X + b\n",
    "        cost = tf.reduce_mean(tf.square(hypothesis - y))\n",
    "    W_grad, b_grad = tape.gradient(cost, [W, b])\n",
    "    W.assign_sub(learning_rate * W_grad)\n",
    "    b.assign_sub(learning_rate * b_grad)\n",
    "    if i % 10 == 0:\n",
    "      print(\"{:5}|{:10.4f}|{:10.4f}|{:10.6f}\".format(i, W.numpy(), b.numpy(), cost))"
   ]
  },
  {
   "cell_type": "code",
   "execution_count": 24,
   "metadata": {},
   "outputs": [
    {
     "data": {
      "text/plain": [
       "(-1.0, 20.0)"
      ]
     },
     "execution_count": 24,
     "metadata": {},
     "output_type": "execute_result"
    },
    {
     "data": {
      "image/png": "[encoded data removed]",
      "text/plain": [
       "<Figure size 432x288 with 1 Axes>"
      ]
     },
     "metadata": {
      "needs_background": "light"
     },
     "output_type": "display_data"
    }
   ],
   "source": [
    "plt.plot(X, y, 'o')\n",
    "plt.plot(X, hypothesis.numpy(), 'r-')\n",
    "plt.ylim(-1, 20)"
   ]
  },
  {
   "cell_type": "markdown",
   "metadata": {
    "colab_type": "text",
    "id": "6upnkrWZFUWF",
    "slideshow": {
     "slide_type": "slide"
    }
   },
   "source": [
    "# predict"
   ]
  },
  {
   "cell_type": "code",
   "execution_count": 25,
   "metadata": {
    "colab": {
     "base_uri": "https://localhost:8080/",
     "height": 52
    },
    "colab_type": "code",
    "executionInfo": {
     "elapsed": 3428,
     "status": "ok",
     "timestamp": 1549783674450,
     "user": {
      "displayName": "Sean-June Lee",
      "photoUrl": "https://lh3.googleusercontent.com/-j96Pvw9LbEw/AAAAAAAAAAI/AAAAAAACQxw/aY8i4PoItwc/s64/photo.jpg",
      "userId": "12576390002043678893"
     },
     "user_tz": -540
    },
    "id": "WnqG2Dn7LUNy",
    "outputId": "577f4c5d-296d-497d-b444-651063be1d27"
   },
   "outputs": [],
   "source": [
    "def pred_func(x):\n",
    "    return W * x + b"
   ]
  },
  {
   "cell_type": "code",
   "execution_count": 28,
   "metadata": {},
   "outputs": [
    {
     "name": "stdout",
     "output_type": "stream",
     "text": [
      "tf.Tensor(9.999996, shape=(), dtype=float32)\n"
     ]
    }
   ],
   "source": [
    "print(pred_func(10))"
   ]
  }
 ],
 "metadata": {
  "colab": {
   "collapsed_sections": [],
   "name": "lab-02-1-Simple-Liner-Regression-eager.ipynb",
   "provenance": [],
   "version": "0.3.2"
  },
  "kernelspec": {
   "display_name": "Python 3",
   "language": "python",
   "name": "python3"
  },
  "language_info": {
   "codemirror_mode": {
    "name": "ipython",
    "version": 3
   },
   "file_extension": ".py",
   "mimetype": "text/x-python",
   "name": "python",
   "nbconvert_exporter": "python",
   "pygments_lexer": "ipython3",
   "version": "3.8.5"
  }
 },
 "nbformat": 4,
 "nbformat_minor": 4
}
