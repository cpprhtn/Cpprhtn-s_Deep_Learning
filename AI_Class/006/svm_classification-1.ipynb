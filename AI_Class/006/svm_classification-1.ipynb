{
 "cells": [
  {
   "cell_type": "markdown",
   "metadata": {
    "id": "rEl_H-f03M51"
   },
   "source": [
    "# SVM\n",
    "\n",
    "Support Vector Machine의 약자\n",
    "\n",
    "이름대로 Vector 개념을 사용\n",
    "\n",
    "SVM은 서포트 벡터(support vectors)를 사용해서 결정 경계(Decision Boundary)를 정의하고, 분류되지 않은 점을 해당 결정 경계와 비교해서 분류하는 모델\n",
    "\n",
    "![006-6](https://user-images.githubusercontent.com/63298243/125198484-06fe3d00-e29d-11eb-86b6-760108a860f1.PNG)\n",
    "\n",
    "여기서 서포트 벡터(support vectors)는 결정 경계에 가장 가까운 각 클래스의 점들을 말함\n",
    "\n",
    "SVM의 주 목적은 두 Margin의 거리를 최대화 시킬 수 있는 즉, GAP을 최대화 시킬 수 있는 지점을 찾는 것\n",
    "\n",
    "그래서 분류되지 않은 새로운 점이 나타나면 경계의 어느 쪽에 속하는지 확인해서 분류 과제를 수행할 수 있음"
   ]
  },
  {
   "cell_type": "code",
   "execution_count": null,
   "metadata": {
    "id": "z0UcEbIP3M53"
   },
   "outputs": [],
   "source": [
    "import pandas as pd\n",
    "import seaborn as sns\n",
    "\n",
    "from sklearn import preprocessing\n",
    "from sklearn.model_selection import train_test_split\n",
    "from sklearn import svm"
   ]
  },
  {
   "cell_type": "code",
   "execution_count": null,
   "metadata": {
    "id": "NMayB12E3M54"
   },
   "outputs": [],
   "source": [
    "df = sns.load_dataset('titanic')"
   ]
  },
  {
   "cell_type": "markdown",
   "metadata": {
    "id": "u7CV_oxf3M54"
   },
   "source": [
    "## EDA"
   ]
  },
  {
   "cell_type": "markdown",
   "metadata": {
    "id": "I4GG-U7u3M54"
   },
   "source": [
    "## Modeling"
   ]
  },
  {
   "cell_type": "code",
   "execution_count": null,
   "metadata": {
    "id": "SExm7w5n3M54"
   },
   "outputs": [],
   "source": [
    "X=features[['pclass', 'age', 'sibsp', 'parch', 'female', 'male', 'town_C', 'town_Q', 'town_S']]  #독립 변수 X\n",
    "y=features['survived']                      #종속 변수 Y"
   ]
  },
  {
   "cell_type": "code",
   "execution_count": null,
   "metadata": {
    "id": "Q190bZwV3M55"
   },
   "outputs": [],
   "source": [
    "X = preprocessing.StandardScaler().fit(X).transform(X)"
   ]
  },
  {
   "cell_type": "code",
   "execution_count": null,
   "metadata": {
    "id": "3irZfoEa3M55",
    "outputId": "01a78cbd-8e21-4401-9630-1c7d040e01b5",
    "scrolled": true
   },
   "outputs": [
    {
     "name": "stdout",
     "output_type": "stream",
     "text": [
      "train data 개수:  (499, 9)\n",
      "test data 개수:  (215, 9)\n"
     ]
    }
   ],
   "source": [
    "X_train, X_test, y_train, y_test = train_test_split(X, y, test_size=0.3, random_state=10) \n",
    "print('train data 개수: ', X_train.shape)\n",
    "print('test data 개수: ', X_test.shape)"
   ]
  },
  {
   "cell_type": "markdown",
   "metadata": {
    "id": "EPZvIXSA3M56"
   },
   "source": [
    "## SVM Model"
   ]
  },
  {
   "cell_type": "markdown",
   "metadata": {
    "id": "KVmoOC1g3M56"
   },
   "source": [
    "#### 모델 객체 생성 (kernel='rbf' 적용)\n",
    "\n",
    "sklearn에서 가져온 svm 모듈의 svc() 함수를 사용하여 모델 객체를 생성\n",
    "\n",
    "이때 데이터를 벡터 공간으로 매핑하는 함수를 커널이라 하는데\n",
    "\n",
    "일단은 'rbf' 옵션으로 함수를 적용한다.\n",
    "\n",
    "rbf : radical basis function (방사형 기저 함수)\n",
    "\n",
    "이외에도 Linear, Polynimial 등의 커널 옵션을 줄 수 있다.\n",
    "![006-2](https://user-images.githubusercontent.com/63298243/125198208-ed102a80-e29b-11eb-85de-edd8284f3c41.png)\n",
    "![006-3](https://user-images.githubusercontent.com/63298243/125198209-ee415780-e29b-11eb-984c-11f712b52dbb.png)\n",
    "![006-12](https://user-images.githubusercontent.com/63298243/125198214-f1d4de80-e29b-11eb-9806-79cf931f0d7f.png)\n",
    "![006-13](https://user-images.githubusercontent.com/63298243/125198218-f3060b80-e29b-11eb-82d0-3c810cc622fc.png)\n",
    "\n",
    "\n",
    "\n",
    "#### C\n",
    "데이터들을 선형적으로 완벽하게 분리해내는 것은 불가능하다. \n",
    "\n",
    "이를 해결하기 위해서 약간의 오류를 허용하는 전략이 만들어졌다. \n",
    "\n",
    "이것과 관련된 파라미터가 바로 cost(C)이다. \n",
    "\n",
    "C는 얼마나 많은 데이터 샘플이 다른 클래스에 놓이는 것을 허용하는지를 결정한다. \n",
    "\n",
    "작을 수록 많이 허용하고, 클 수록 적게 허용한다. \n",
    "\n",
    "![006-7](https://user-images.githubusercontent.com/63298243/125198319-6b6ccc80-e29c-11eb-82a5-125881f3afc4.png)\n",
    "\n",
    "\n",
    "#### gamma (rbf커널에서만 적용)\n",
    "gamma 파라미터는 결정 경계의 곡률을 조정한다.\n",
    "\n",
    "![006-8](https://user-images.githubusercontent.com/63298243/125198331-758ecb00-e29c-11eb-8728-e185341405b0.png)\n",
    "![006-9](https://user-images.githubusercontent.com/63298243/125198332-76bff800-e29c-11eb-9120-d70576e596b5.png)\n",
    "![006-10](https://user-images.githubusercontent.com/63298243/125198333-76bff800-e29c-11eb-9354-da119bfe0575.png)"
   ]
  },
  {
   "cell_type": "code",
   "execution_count": null,
   "metadata": {
    "id": "KzhYvtUY3M56"
   },
   "outputs": [],
   "source": [
    "svm_model = svm.SVC(kernel='linear', C = 0.1)"
   ]
  },
  {
   "cell_type": "code",
   "execution_count": null,
   "metadata": {
    "id": "_Egq54tu3M57",
    "outputId": "913b986e-1a48-4461-f067-c4c33afda368",
    "scrolled": false
   },
   "outputs": [
    {
     "data": {
      "text/plain": [
       "SVC(C=0.1, kernel='linear')"
      ]
     },
     "execution_count": 10,
     "metadata": {
      "tags": []
     },
     "output_type": "execute_result"
    }
   ],
   "source": [
    "svm_model.fit(X_train, y_train) "
   ]
  },
  {
   "cell_type": "code",
   "execution_count": null,
   "metadata": {
    "id": "KBKX1h3c3M57",
    "outputId": "4834f189-a11e-4a79-aab1-623acf9d73a8"
   },
   "outputs": [
    {
     "name": "stdout",
     "output_type": "stream",
     "text": [
      "0.7813953488372093\n"
     ]
    }
   ],
   "source": [
    "r_square = svm_model.score(X_test, y_test)\n",
    "print(r_square)"
   ]
  }
 ],
 "metadata": {
  "colab": {
   "name": "svm_classification-1.ipynb",
   "provenance": []
  },
  "kernelspec": {
   "display_name": "Python 3",
   "language": "python",
   "name": "python3"
  },
  "language_info": {
   "codemirror_mode": {
    "name": "ipython",
    "version": 3
   },
   "file_extension": ".py",
   "mimetype": "text/x-python",
   "name": "python",
   "nbconvert_exporter": "python",
   "pygments_lexer": "ipython3",
   "version": "3.8.5"
  }
 },
 "nbformat": 4,
 "nbformat_minor": 1
}
