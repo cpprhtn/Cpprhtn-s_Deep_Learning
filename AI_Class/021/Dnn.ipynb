{
 "cells": [
  {
   "cell_type": "markdown",
   "metadata": {},
   "source": [
    "# Dnn 실습\n",
    "\n",
    "주어진 코드는 import lib, data와 Modeling 파트입니다.\n",
    "\n",
    "타이타닉 데이터셋을 사용했습니다.\n",
    "\n",
    "이제껏 배워왔던 내용들을 기반으로 Dnn 모델을 구축해보세요.\n",
    "\n",
    "- 목표 : 정확도 85 넘기기"
   ]
  },
  {
   "cell_type": "markdown",
   "metadata": {},
   "source": [
    "### Import library & data"
   ]
  },
  {
   "cell_type": "code",
   "execution_count": 1,
   "metadata": {},
   "outputs": [],
   "source": [
    "import pandas as pd\n",
    "import seaborn as sns\n",
    "import matplotlib.pyplot as plt\n",
    "\n",
    "from sklearn import preprocessing\n",
    "from sklearn.model_selection import train_test_split"
   ]
  },
  {
   "cell_type": "code",
   "execution_count": 2,
   "metadata": {},
   "outputs": [],
   "source": [
    "df = sns.load_dataset('titanic')"
   ]
  },
  {
   "cell_type": "markdown",
   "metadata": {},
   "source": [
    "## Modeling"
   ]
  },
  {
   "cell_type": "code",
   "execution_count": 3,
   "metadata": {},
   "outputs": [
    {
     "name": "stderr",
     "output_type": "stream",
     "text": [
      "Using TensorFlow backend.\n",
      "/Users/cpprhtn/opt/anaconda3/lib/python3.7/site-packages/tensorflow/python/framework/dtypes.py:526: FutureWarning: Passing (type, 1) or '1type' as a synonym of type is deprecated; in a future version of numpy, it will be understood as (type, (1,)) / '(1,)type'.\n",
      "  _np_qint8 = np.dtype([(\"qint8\", np.int8, 1)])\n",
      "/Users/cpprhtn/opt/anaconda3/lib/python3.7/site-packages/tensorflow/python/framework/dtypes.py:527: FutureWarning: Passing (type, 1) or '1type' as a synonym of type is deprecated; in a future version of numpy, it will be understood as (type, (1,)) / '(1,)type'.\n",
      "  _np_quint8 = np.dtype([(\"quint8\", np.uint8, 1)])\n",
      "/Users/cpprhtn/opt/anaconda3/lib/python3.7/site-packages/tensorflow/python/framework/dtypes.py:528: FutureWarning: Passing (type, 1) or '1type' as a synonym of type is deprecated; in a future version of numpy, it will be understood as (type, (1,)) / '(1,)type'.\n",
      "  _np_qint16 = np.dtype([(\"qint16\", np.int16, 1)])\n",
      "/Users/cpprhtn/opt/anaconda3/lib/python3.7/site-packages/tensorflow/python/framework/dtypes.py:529: FutureWarning: Passing (type, 1) or '1type' as a synonym of type is deprecated; in a future version of numpy, it will be understood as (type, (1,)) / '(1,)type'.\n",
      "  _np_quint16 = np.dtype([(\"quint16\", np.uint16, 1)])\n",
      "/Users/cpprhtn/opt/anaconda3/lib/python3.7/site-packages/tensorflow/python/framework/dtypes.py:530: FutureWarning: Passing (type, 1) or '1type' as a synonym of type is deprecated; in a future version of numpy, it will be understood as (type, (1,)) / '(1,)type'.\n",
      "  _np_qint32 = np.dtype([(\"qint32\", np.int32, 1)])\n",
      "/Users/cpprhtn/opt/anaconda3/lib/python3.7/site-packages/tensorflow/python/framework/dtypes.py:535: FutureWarning: Passing (type, 1) or '1type' as a synonym of type is deprecated; in a future version of numpy, it will be understood as (type, (1,)) / '(1,)type'.\n",
      "  np_resource = np.dtype([(\"resource\", np.ubyte, 1)])\n"
     ]
    }
   ],
   "source": [
    "from keras.models import Sequential\n",
    "from keras.layers.core import Dense"
   ]
  },
  {
   "cell_type": "code",
   "execution_count": null,
   "metadata": {},
   "outputs": [],
   "source": [
    "model = Sequential()\n",
    "model.add(Dense(256, input_shape=(8,), activation='relu'))\n",
    "model.add(Dense(256, activation='relu'))\n",
    "model.add(Dense(16, activation='relu'))\n",
    "model.add(Dense(16, activation='relu'))\n",
    "model.add(Dense((10), activation='sigmoid'))\n",
    "model.compile(loss='mse', optimizer='Adam', metrics=['accuracy'])\n",
    "model.summary()"
   ]
  },
  {
   "cell_type": "code",
   "execution_count": 59,
   "metadata": {
    "scrolled": false
   },
   "outputs": [
    {
     "name": "stdout",
     "output_type": "stream",
     "text": [
      "Train on 571 samples, validate on 143 samples\n",
      "Epoch 1/100\n",
      "571/571 [==============================] - 0s 234us/step - loss: 0.2347 - accuracy: 0.6007 - val_loss: 0.2207 - val_accuracy: 0.6084\n",
      "Epoch 2/100\n",
      "571/571 [==============================] - 0s 27us/step - loss: 0.2037 - accuracy: 0.7040 - val_loss: 0.1933 - val_accuracy: 0.7483\n",
      "Epoch 3/100\n",
      "571/571 [==============================] - 0s 30us/step - loss: 0.1850 - accuracy: 0.7758 - val_loss: 0.1779 - val_accuracy: 0.7692\n",
      "Epoch 4/100\n",
      "571/571 [==============================] - 0s 32us/step - loss: 0.1752 - accuracy: 0.7776 - val_loss: 0.1685 - val_accuracy: 0.7902\n",
      "Epoch 5/100\n",
      "571/571 [==============================] - 0s 31us/step - loss: 0.1690 - accuracy: 0.7793 - val_loss: 0.1636 - val_accuracy: 0.7902\n",
      "Epoch 6/100\n",
      "571/571 [==============================] - 0s 32us/step - loss: 0.1658 - accuracy: 0.7793 - val_loss: 0.1603 - val_accuracy: 0.7902\n",
      "Epoch 7/100\n",
      "571/571 [==============================] - 0s 31us/step - loss: 0.1637 - accuracy: 0.7776 - val_loss: 0.1572 - val_accuracy: 0.7902\n",
      "Epoch 8/100\n",
      "571/571 [==============================] - 0s 32us/step - loss: 0.1620 - accuracy: 0.7811 - val_loss: 0.1538 - val_accuracy: 0.7902\n",
      "Epoch 9/100\n",
      "571/571 [==============================] - 0s 31us/step - loss: 0.1609 - accuracy: 0.7811 - val_loss: 0.1516 - val_accuracy: 0.7902\n",
      "Epoch 10/100\n",
      "571/571 [==============================] - 0s 30us/step - loss: 0.1598 - accuracy: 0.7811 - val_loss: 0.1505 - val_accuracy: 0.7902\n",
      "Epoch 11/100\n",
      "571/571 [==============================] - 0s 31us/step - loss: 0.1593 - accuracy: 0.7828 - val_loss: 0.1494 - val_accuracy: 0.7902\n",
      "Epoch 12/100\n",
      "571/571 [==============================] - 0s 32us/step - loss: 0.1583 - accuracy: 0.7828 - val_loss: 0.1480 - val_accuracy: 0.7902\n",
      "Epoch 13/100\n",
      "571/571 [==============================] - 0s 32us/step - loss: 0.1577 - accuracy: 0.7863 - val_loss: 0.1464 - val_accuracy: 0.7972\n",
      "Epoch 14/100\n",
      "571/571 [==============================] - 0s 32us/step - loss: 0.1573 - accuracy: 0.7863 - val_loss: 0.1458 - val_accuracy: 0.7972\n",
      "Epoch 15/100\n",
      "571/571 [==============================] - 0s 31us/step - loss: 0.1568 - accuracy: 0.7863 - val_loss: 0.1436 - val_accuracy: 0.8042\n",
      "Epoch 16/100\n",
      "571/571 [==============================] - 0s 31us/step - loss: 0.1561 - accuracy: 0.7863 - val_loss: 0.1437 - val_accuracy: 0.8042\n",
      "Epoch 17/100\n",
      "571/571 [==============================] - 0s 31us/step - loss: 0.1555 - accuracy: 0.7898 - val_loss: 0.1428 - val_accuracy: 0.8112\n",
      "Epoch 18/100\n",
      "571/571 [==============================] - 0s 32us/step - loss: 0.1553 - accuracy: 0.7916 - val_loss: 0.1417 - val_accuracy: 0.8322\n",
      "Epoch 19/100\n",
      "571/571 [==============================] - 0s 32us/step - loss: 0.1547 - accuracy: 0.7951 - val_loss: 0.1407 - val_accuracy: 0.8252\n",
      "Epoch 20/100\n",
      "571/571 [==============================] - 0s 33us/step - loss: 0.1543 - accuracy: 0.8021 - val_loss: 0.1402 - val_accuracy: 0.8322\n",
      "Epoch 21/100\n",
      "571/571 [==============================] - 0s 31us/step - loss: 0.1539 - accuracy: 0.8021 - val_loss: 0.1395 - val_accuracy: 0.8322\n",
      "Epoch 22/100\n",
      "571/571 [==============================] - 0s 31us/step - loss: 0.1535 - accuracy: 0.8021 - val_loss: 0.1391 - val_accuracy: 0.8322\n",
      "Epoch 23/100\n",
      "571/571 [==============================] - 0s 31us/step - loss: 0.1532 - accuracy: 0.8039 - val_loss: 0.1384 - val_accuracy: 0.8322\n",
      "Epoch 24/100\n",
      "571/571 [==============================] - 0s 31us/step - loss: 0.1530 - accuracy: 0.8039 - val_loss: 0.1381 - val_accuracy: 0.8322\n",
      "Epoch 25/100\n",
      "571/571 [==============================] - 0s 32us/step - loss: 0.1528 - accuracy: 0.8039 - val_loss: 0.1370 - val_accuracy: 0.8322\n",
      "Epoch 26/100\n",
      "571/571 [==============================] - 0s 31us/step - loss: 0.1526 - accuracy: 0.8056 - val_loss: 0.1374 - val_accuracy: 0.8462\n",
      "Epoch 27/100\n",
      "571/571 [==============================] - 0s 32us/step - loss: 0.1522 - accuracy: 0.8074 - val_loss: 0.1364 - val_accuracy: 0.8462\n",
      "Epoch 28/100\n",
      "571/571 [==============================] - 0s 30us/step - loss: 0.1520 - accuracy: 0.8074 - val_loss: 0.1359 - val_accuracy: 0.8462\n",
      "Epoch 29/100\n",
      "571/571 [==============================] - 0s 32us/step - loss: 0.1515 - accuracy: 0.8074 - val_loss: 0.1362 - val_accuracy: 0.8462\n",
      "Epoch 30/100\n",
      "571/571 [==============================] - 0s 31us/step - loss: 0.1514 - accuracy: 0.8074 - val_loss: 0.1352 - val_accuracy: 0.8462\n",
      "Epoch 31/100\n",
      "571/571 [==============================] - 0s 33us/step - loss: 0.1512 - accuracy: 0.8109 - val_loss: 0.1349 - val_accuracy: 0.8462\n",
      "Epoch 32/100\n",
      "571/571 [==============================] - 0s 32us/step - loss: 0.1509 - accuracy: 0.8091 - val_loss: 0.1343 - val_accuracy: 0.8462\n",
      "Epoch 33/100\n",
      "571/571 [==============================] - 0s 32us/step - loss: 0.1508 - accuracy: 0.8074 - val_loss: 0.1341 - val_accuracy: 0.8462\n",
      "Epoch 34/100\n",
      "571/571 [==============================] - 0s 31us/step - loss: 0.1505 - accuracy: 0.8109 - val_loss: 0.1344 - val_accuracy: 0.8462\n",
      "Epoch 35/100\n",
      "571/571 [==============================] - 0s 32us/step - loss: 0.1503 - accuracy: 0.8109 - val_loss: 0.1334 - val_accuracy: 0.8462\n",
      "Epoch 36/100\n",
      "571/571 [==============================] - 0s 36us/step - loss: 0.1501 - accuracy: 0.8109 - val_loss: 0.1334 - val_accuracy: 0.8462\n",
      "Epoch 37/100\n",
      "571/571 [==============================] - 0s 35us/step - loss: 0.1500 - accuracy: 0.8091 - val_loss: 0.1334 - val_accuracy: 0.8462\n",
      "Epoch 38/100\n",
      "571/571 [==============================] - 0s 47us/step - loss: 0.1498 - accuracy: 0.8091 - val_loss: 0.1328 - val_accuracy: 0.8462\n",
      "Epoch 39/100\n",
      "571/571 [==============================] - 0s 41us/step - loss: 0.1496 - accuracy: 0.8074 - val_loss: 0.1332 - val_accuracy: 0.8462\n",
      "Epoch 40/100\n",
      "571/571 [==============================] - 0s 31us/step - loss: 0.1495 - accuracy: 0.8091 - val_loss: 0.1325 - val_accuracy: 0.8462\n",
      "Epoch 41/100\n",
      "571/571 [==============================] - 0s 29us/step - loss: 0.1492 - accuracy: 0.8109 - val_loss: 0.1323 - val_accuracy: 0.8462\n",
      "Epoch 42/100\n",
      "571/571 [==============================] - 0s 31us/step - loss: 0.1492 - accuracy: 0.8109 - val_loss: 0.1321 - val_accuracy: 0.8462\n",
      "Epoch 43/100\n",
      "571/571 [==============================] - 0s 31us/step - loss: 0.1492 - accuracy: 0.8144 - val_loss: 0.1317 - val_accuracy: 0.8462\n",
      "Epoch 44/100\n",
      "571/571 [==============================] - 0s 32us/step - loss: 0.1491 - accuracy: 0.8109 - val_loss: 0.1319 - val_accuracy: 0.8462\n",
      "Epoch 45/100\n",
      "571/571 [==============================] - 0s 30us/step - loss: 0.1488 - accuracy: 0.8144 - val_loss: 0.1320 - val_accuracy: 0.8462\n",
      "Epoch 46/100\n",
      "571/571 [==============================] - 0s 34us/step - loss: 0.1489 - accuracy: 0.8091 - val_loss: 0.1313 - val_accuracy: 0.8462\n",
      "Epoch 47/100\n",
      "571/571 [==============================] - 0s 29us/step - loss: 0.1485 - accuracy: 0.8126 - val_loss: 0.1314 - val_accuracy: 0.8462\n",
      "Epoch 48/100\n",
      "571/571 [==============================] - 0s 29us/step - loss: 0.1486 - accuracy: 0.8109 - val_loss: 0.1312 - val_accuracy: 0.8462\n",
      "Epoch 49/100\n",
      "571/571 [==============================] - 0s 29us/step - loss: 0.1486 - accuracy: 0.8126 - val_loss: 0.1311 - val_accuracy: 0.8462\n",
      "Epoch 50/100\n",
      "571/571 [==============================] - 0s 28us/step - loss: 0.1485 - accuracy: 0.8126 - val_loss: 0.1307 - val_accuracy: 0.8462\n",
      "Epoch 51/100\n",
      "571/571 [==============================] - 0s 29us/step - loss: 0.1481 - accuracy: 0.8109 - val_loss: 0.1309 - val_accuracy: 0.8462\n",
      "Epoch 52/100\n",
      "571/571 [==============================] - 0s 29us/step - loss: 0.1480 - accuracy: 0.8126 - val_loss: 0.1302 - val_accuracy: 0.8462\n",
      "Epoch 53/100\n",
      "571/571 [==============================] - 0s 30us/step - loss: 0.1478 - accuracy: 0.8144 - val_loss: 0.1302 - val_accuracy: 0.8462\n",
      "Epoch 54/100\n",
      "571/571 [==============================] - 0s 29us/step - loss: 0.1480 - accuracy: 0.8074 - val_loss: 0.1311 - val_accuracy: 0.8462\n",
      "Epoch 55/100\n",
      "571/571 [==============================] - 0s 30us/step - loss: 0.1479 - accuracy: 0.8144 - val_loss: 0.1301 - val_accuracy: 0.8392\n",
      "Epoch 56/100\n",
      "571/571 [==============================] - 0s 31us/step - loss: 0.1477 - accuracy: 0.8126 - val_loss: 0.1299 - val_accuracy: 0.8462\n",
      "Epoch 57/100\n",
      "571/571 [==============================] - 0s 32us/step - loss: 0.1474 - accuracy: 0.8144 - val_loss: 0.1301 - val_accuracy: 0.8462\n",
      "Epoch 58/100\n",
      "571/571 [==============================] - 0s 29us/step - loss: 0.1475 - accuracy: 0.8144 - val_loss: 0.1304 - val_accuracy: 0.8462\n",
      "Epoch 59/100\n",
      "571/571 [==============================] - 0s 28us/step - loss: 0.1476 - accuracy: 0.8109 - val_loss: 0.1305 - val_accuracy: 0.8462\n",
      "Epoch 60/100\n",
      "571/571 [==============================] - 0s 29us/step - loss: 0.1475 - accuracy: 0.8144 - val_loss: 0.1307 - val_accuracy: 0.8462\n",
      "Epoch 61/100\n",
      "571/571 [==============================] - 0s 29us/step - loss: 0.1471 - accuracy: 0.8144 - val_loss: 0.1297 - val_accuracy: 0.8462\n",
      "Epoch 62/100\n",
      "571/571 [==============================] - 0s 29us/step - loss: 0.1474 - accuracy: 0.8144 - val_loss: 0.1298 - val_accuracy: 0.8462\n",
      "Epoch 63/100\n",
      "571/571 [==============================] - 0s 28us/step - loss: 0.1471 - accuracy: 0.8144 - val_loss: 0.1294 - val_accuracy: 0.8462\n",
      "Epoch 64/100\n",
      "571/571 [==============================] - 0s 29us/step - loss: 0.1470 - accuracy: 0.8144 - val_loss: 0.1293 - val_accuracy: 0.8462\n",
      "Epoch 65/100\n",
      "571/571 [==============================] - 0s 29us/step - loss: 0.1468 - accuracy: 0.8144 - val_loss: 0.1296 - val_accuracy: 0.8462\n",
      "Epoch 66/100\n",
      "571/571 [==============================] - 0s 31us/step - loss: 0.1467 - accuracy: 0.8144 - val_loss: 0.1299 - val_accuracy: 0.8462\n",
      "Epoch 67/100\n",
      "571/571 [==============================] - 0s 30us/step - loss: 0.1469 - accuracy: 0.8144 - val_loss: 0.1296 - val_accuracy: 0.8462\n",
      "Epoch 68/100\n",
      "571/571 [==============================] - 0s 28us/step - loss: 0.1469 - accuracy: 0.8144 - val_loss: 0.1296 - val_accuracy: 0.8462\n",
      "Epoch 69/100\n",
      "571/571 [==============================] - 0s 28us/step - loss: 0.1466 - accuracy: 0.8126 - val_loss: 0.1292 - val_accuracy: 0.8462\n",
      "Epoch 70/100\n",
      "571/571 [==============================] - 0s 28us/step - loss: 0.1465 - accuracy: 0.8126 - val_loss: 0.1296 - val_accuracy: 0.8462\n",
      "Epoch 71/100\n",
      "571/571 [==============================] - 0s 28us/step - loss: 0.1462 - accuracy: 0.8144 - val_loss: 0.1295 - val_accuracy: 0.8462\n",
      "Epoch 72/100\n",
      "571/571 [==============================] - 0s 28us/step - loss: 0.1462 - accuracy: 0.8144 - val_loss: 0.1293 - val_accuracy: 0.8462\n",
      "Epoch 73/100\n",
      "571/571 [==============================] - 0s 29us/step - loss: 0.1462 - accuracy: 0.8144 - val_loss: 0.1296 - val_accuracy: 0.8462\n",
      "Epoch 74/100\n",
      "571/571 [==============================] - 0s 28us/step - loss: 0.1460 - accuracy: 0.8144 - val_loss: 0.1289 - val_accuracy: 0.8462\n",
      "Epoch 75/100\n",
      "571/571 [==============================] - 0s 29us/step - loss: 0.1461 - accuracy: 0.8144 - val_loss: 0.1289 - val_accuracy: 0.8462\n",
      "Epoch 76/100\n",
      "571/571 [==============================] - 0s 29us/step - loss: 0.1459 - accuracy: 0.8144 - val_loss: 0.1287 - val_accuracy: 0.8462\n",
      "Epoch 77/100\n",
      "571/571 [==============================] - 0s 28us/step - loss: 0.1461 - accuracy: 0.8144 - val_loss: 0.1297 - val_accuracy: 0.8462\n",
      "Epoch 78/100\n",
      "571/571 [==============================] - 0s 29us/step - loss: 0.1458 - accuracy: 0.8144 - val_loss: 0.1291 - val_accuracy: 0.8462\n",
      "Epoch 79/100\n",
      "571/571 [==============================] - 0s 29us/step - loss: 0.1457 - accuracy: 0.8144 - val_loss: 0.1288 - val_accuracy: 0.8462\n",
      "Epoch 80/100\n",
      "571/571 [==============================] - 0s 29us/step - loss: 0.1458 - accuracy: 0.8144 - val_loss: 0.1291 - val_accuracy: 0.8462\n",
      "Epoch 81/100\n",
      "571/571 [==============================] - 0s 29us/step - loss: 0.1458 - accuracy: 0.8144 - val_loss: 0.1291 - val_accuracy: 0.8462\n",
      "Epoch 82/100\n",
      "571/571 [==============================] - 0s 29us/step - loss: 0.1457 - accuracy: 0.8144 - val_loss: 0.1290 - val_accuracy: 0.8462\n",
      "Epoch 83/100\n",
      "571/571 [==============================] - 0s 29us/step - loss: 0.1455 - accuracy: 0.8144 - val_loss: 0.1286 - val_accuracy: 0.8462\n",
      "Epoch 84/100\n",
      "571/571 [==============================] - 0s 29us/step - loss: 0.1455 - accuracy: 0.8144 - val_loss: 0.1284 - val_accuracy: 0.8462\n",
      "Epoch 85/100\n",
      "571/571 [==============================] - 0s 28us/step - loss: 0.1455 - accuracy: 0.8144 - val_loss: 0.1289 - val_accuracy: 0.8462\n",
      "Epoch 86/100\n",
      "571/571 [==============================] - 0s 28us/step - loss: 0.1454 - accuracy: 0.8144 - val_loss: 0.1284 - val_accuracy: 0.8462\n",
      "Epoch 87/100\n",
      "571/571 [==============================] - 0s 28us/step - loss: 0.1452 - accuracy: 0.8144 - val_loss: 0.1287 - val_accuracy: 0.8462\n",
      "Epoch 88/100\n",
      "571/571 [==============================] - 0s 28us/step - loss: 0.1454 - accuracy: 0.8144 - val_loss: 0.1292 - val_accuracy: 0.8462\n",
      "Epoch 89/100\n",
      "571/571 [==============================] - 0s 28us/step - loss: 0.1452 - accuracy: 0.8144 - val_loss: 0.1281 - val_accuracy: 0.8462\n",
      "Epoch 90/100\n",
      "571/571 [==============================] - 0s 34us/step - loss: 0.1452 - accuracy: 0.8161 - val_loss: 0.1292 - val_accuracy: 0.8462\n",
      "Epoch 91/100\n",
      "571/571 [==============================] - 0s 39us/step - loss: 0.1453 - accuracy: 0.8144 - val_loss: 0.1291 - val_accuracy: 0.8462\n",
      "Epoch 92/100\n",
      "571/571 [==============================] - 0s 36us/step - loss: 0.1452 - accuracy: 0.8161 - val_loss: 0.1287 - val_accuracy: 0.8462\n",
      "Epoch 93/100\n",
      "571/571 [==============================] - 0s 40us/step - loss: 0.1451 - accuracy: 0.8179 - val_loss: 0.1285 - val_accuracy: 0.8462\n",
      "Epoch 94/100\n",
      "571/571 [==============================] - 0s 34us/step - loss: 0.1452 - accuracy: 0.8144 - val_loss: 0.1288 - val_accuracy: 0.8462\n",
      "Epoch 95/100\n",
      "571/571 [==============================] - 0s 44us/step - loss: 0.1452 - accuracy: 0.8144 - val_loss: 0.1278 - val_accuracy: 0.8462\n",
      "Epoch 96/100\n",
      "571/571 [==============================] - 0s 40us/step - loss: 0.1448 - accuracy: 0.8179 - val_loss: 0.1284 - val_accuracy: 0.8462\n",
      "Epoch 97/100\n",
      "571/571 [==============================] - 0s 45us/step - loss: 0.1451 - accuracy: 0.8144 - val_loss: 0.1291 - val_accuracy: 0.8462\n",
      "Epoch 98/100\n",
      "571/571 [==============================] - 0s 35us/step - loss: 0.1450 - accuracy: 0.8144 - val_loss: 0.1284 - val_accuracy: 0.8462\n",
      "Epoch 99/100\n",
      "571/571 [==============================] - 0s 39us/step - loss: 0.1447 - accuracy: 0.8144 - val_loss: 0.1286 - val_accuracy: 0.8462\n",
      "Epoch 100/100\n",
      "571/571 [==============================] - 0s 39us/step - loss: 0.1449 - accuracy: 0.8161 - val_loss: 0.1280 - val_accuracy: 0.8462\n"
     ]
    }
   ],
   "source": [
    "history = model.fit(X_train, y_train, validation_data=(X_test, y_test), epochs=30)"
   ]
  },
  {
   "cell_type": "code",
   "execution_count": 60,
   "metadata": {},
   "outputs": [
    {
     "data": {
      "image/png": "[encoded data removed]",
      "text/plain": [
       "<Figure size 864x360 with 1 Axes>"
      ]
     },
     "metadata": {
      "needs_background": "light"
     },
     "output_type": "display_data"
    }
   ],
   "source": [
    "pd.DataFrame(history.history).plot(figsize=(12, 5))\n",
    "plt.grid(True)\n",
    "plt.gca().set_ylim(0, 1)\n",
    "plt.show()"
   ]
  },
  {
   "cell_type": "code",
   "execution_count": null,
   "metadata": {},
   "outputs": [],
   "source": []
  }
 ],
 "metadata": {
  "kernelspec": {
   "display_name": "Python 3",
   "language": "python",
   "name": "python3"
  },
  "language_info": {
   "codemirror_mode": {
    "name": "ipython",
    "version": 3
   },
   "file_extension": ".py",
   "mimetype": "text/x-python",
   "name": "python",
   "nbconvert_exporter": "python",
   "pygments_lexer": "ipython3",
   "version": "3.7.6"
  }
 },
 "nbformat": 4,
 "nbformat_minor": 4
}
