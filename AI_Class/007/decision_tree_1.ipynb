{
 "cells": [
  {
   "cell_type": "markdown",
   "metadata": {},
   "source": [
    "# Decision Tree (의사결정 나무)\n",
    "\n",
    "의사결정나무는 분류나무(classification tree)와 회귀나무(regression tree)로 구분된다.\n",
    "\n",
    "분류나무의 경우 상위노드에서 가지분할을 수행할 때, 분류(기준)변수와 분류 기준값의 선택 방법으로 카이제곱 통계량(Chi-square statistic)의 $p$-값, 지니 지수(Gini index), 엔트로피 지수(entropy index) 등이 사용된다.\n",
    "\n",
    "선택된 기준에 의해 분할이 일어날 때, 카이제곱통계량의 $p$-값은 그 값이 작을수록 자식노드간의 이질성이 큼을 나타내며, 자식노드에서의 지니 지수나 엔트로피 지수는 그 값이 클수록 자식노드 내의 이질성이 큼을 의미한다. \n",
    "\n",
    "따라서 이 값들이 가장 작아지는 방향으로 가지분할을 수행하게 된다."
   ]
  },
  {
   "cell_type": "markdown",
   "metadata": {},
   "source": [
    "### Entropy\n",
    "\n",
    "불순도(Impurity)란 해당 범주 안에 서로 다른 데이터가 얼마나 섞여 있는지를 의미한다.\n",
    "\n",
    "엔트로피(Entropy)는 불순도(Impurity)를 수치적으로 나타낸 척도이다.\n",
    "\n",
    "$ 0 <= E <= 1$\n",
    "\n",
    "![007-5](https://user-images.githubusercontent.com/63298243/118453947-c073e280-b732-11eb-8cb6-dde7acb7f87d.png)\n",
    "\n",
    "+ p<sub>i</sub> = 한 영역 안에 존재하는 데이터 가운데 범주 i에 속하는 데이터의 비율\n",
    "\n",
    "아래의 그림에서 Entropy의 값이 클수록 이질적이며 순수도(purity)가 낮다고 할 수 있다.\n",
    "\n",
    "![007-9](https://user-images.githubusercontent.com/63298243/118514821-bde3ae00-b76f-11eb-93b8-999f9849b75e.jpg)\n"
   ]
  },
  {
   "cell_type": "markdown",
   "metadata": {},
   "source": [
    "# Information gain\n",
    "Information gain = entropy(parent) - [weighted average] entropy(children)\n",
    "\n",
    "정보 획득을 최대화하는 방향으로 학습이 진행된다.\n",
    "\n",
    "반대로 말하면 Entropy가 작아지는 방향으로 진행된다.\n",
    "\n",
    "어느 feature의 어느 분기점에서 정보 획득이 최대화되는지 판단을 해서 분기가 진행된다."
   ]
  },
  {
   "cell_type": "markdown",
   "metadata": {},
   "source": [
    "![007-6](https://user-images.githubusercontent.com/63298243/118457569-d8e4fc80-b734-11eb-9250-11afca6c7859.JPG)\n",
    "\n",
    "![007-7](https://user-images.githubusercontent.com/63298243/118457572-da162980-b734-11eb-83a1-a9488ea3b1e7.JPG)\n",
    "\n",
    "![007-8](https://user-images.githubusercontent.com/63298243/118457580-daaec000-b734-11eb-90ea-659449d6bad3.JPG)"
   ]
  },
  {
   "cell_type": "markdown",
   "metadata": {},
   "source": [
    "### Pruning"
   ]
  },
  {
   "cell_type": "markdown",
   "metadata": {},
   "source": [
    "가지분할(split)은 나무의 가지를 생성하는 과정을, \n",
    "\n",
    "가지치기(pruning)는 생성된 가지를 잘라내어 모형을 단순화하는 과정을 말한다\n",
    "\n",
    "<img width=\"631\" alt=\"007-3\" src=\"https://user-images.githubusercontent.com/63298243/118453089-c917e900-b731-11eb-9f43-f009f088710d.png\">"
   ]
  },
  {
   "cell_type": "markdown",
   "metadata": {},
   "source": [
    "## Import library"
   ]
  },
  {
   "cell_type": "code",
   "execution_count": 1,
   "metadata": {},
   "outputs": [],
   "source": [
    "import pandas as pd\n",
    "import numpy as np\n",
    "\n",
    "from sklearn import preprocessing\n",
    "from sklearn.model_selection import train_test_split\n",
    "from sklearn.tree import DecisionTreeClassifier"
   ]
  },
  {
   "cell_type": "markdown",
   "metadata": {},
   "source": [
    "## Load data\n",
    "유방암 진단 데이터셋\n",
    "\n",
    "1.샘플 코드 번호 id 번호  \n",
    "2. 덩어리 두께 1-10  \n",
    "3. 셀 크기의 균일성 1-10  \n",
    "4. 세포 모양의 균일성 1-10  \n",
    "5. 한계 접착 1-10  \n",
    "6. 단일 상피 세포 크기 1-10   \n",
    "7. 드러난 핵세포량 1-10  \n",
    "8. 부드러운 염색질 1-10  \n",
    "9. 정상 핵소체 1-10  \n",
    "10. 유사 분열 1-10  \n",
    "\n",
    "클래스 분포:  \n",
    "양성: 458(65.5%)  \n",
    "악성: 241(34.5%)\n",
    "\n",
    "[직접 다운로드](https://www.cc.gatech.edu/projects/disl/VISTA/breast.html)"
   ]
  },
  {
   "cell_type": "code",
   "execution_count": 2,
   "metadata": {},
   "outputs": [],
   "source": [
    "uci_path = 'https://archive.ics.uci.edu/ml/machine-learning-databases/\\\n",
    "breast-cancer-wisconsin/breast-cancer-wisconsin.data'"
   ]
  },
  {
   "cell_type": "code",
   "execution_count": 3,
   "metadata": {},
   "outputs": [],
   "source": [
    "df = pd.read_csv(uci_path, header=None)"
   ]
  },
  {
   "cell_type": "code",
   "execution_count": 4,
   "metadata": {},
   "outputs": [],
   "source": [
    "df.columns = ['id','clump','cell_size','cell_shape', 'adhesion','epithlial', 'bare_nuclei','chromatin','normal_nucleoli', 'mitoses', 'class'] "
   ]
  },
  {
   "cell_type": "markdown",
   "metadata": {},
   "source": [
    "## EDA\n",
    "\n",
    "데이터 살펴보고, ML에서 최소한의 전처리 조건을 따라 전처리 해보기"
   ]
  },
  {
   "cell_type": "code",
   "execution_count": null,
   "metadata": {},
   "outputs": [],
   "source": []
  },
  {
   "cell_type": "markdown",
   "metadata": {},
   "source": [
    "## Modeling\n",
    "\n",
    "정확도가 98% 이상이 되도록 만들어주세요 !!!\n",
    "\n",
    "종속변수는 'class'입니다.\n",
    "\n",
    "모델은 아래를 참고하여 쓰면 됩니다.\n",
    "- DecisionTreeClassifier(criterion='entropy', max_depth=3)\n",
    "\n",
    "#### 파라미터 설명\n",
    "criterion : 분류척도\n",
    "\n",
    "max_depth : 가지치는 최대 깊이\n",
    "\n",
    "    - max_depth가 커질수록 모델 정확도는 높아질 수 있으나, Overfitting, 즉 실제 데이터에 대해서는 정확도가 떨어질 수 있다."
   ]
  },
  {
   "cell_type": "code",
   "execution_count": null,
   "metadata": {},
   "outputs": [],
   "source": []
  }
 ],
 "metadata": {
  "kernelspec": {
   "display_name": "Python 3",
   "language": "python",
   "name": "python3"
  },
  "language_info": {
   "codemirror_mode": {
    "name": "ipython",
    "version": 3
   },
   "file_extension": ".py",
   "mimetype": "text/x-python",
   "name": "python",
   "nbconvert_exporter": "python",
   "pygments_lexer": "ipython3",
   "version": "3.8.5"
  }
 },
 "nbformat": 4,
 "nbformat_minor": 4
}
